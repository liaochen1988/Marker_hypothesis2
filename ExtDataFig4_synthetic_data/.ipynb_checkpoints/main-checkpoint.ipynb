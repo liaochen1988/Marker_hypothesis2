{
 "cells": [
  {
   "cell_type": "code",
   "execution_count": 1,
   "id": "69b0093a-c46a-40a4-9aaa-49e200e1555b",
   "metadata": {},
   "outputs": [],
   "source": [
    "import pandas as pd\n",
    "import numpy as np\n",
    "import random\n",
    "import matplotlib.pyplot as plt\n",
    "import seaborn as sns\n",
    "from scipy.stats import linregress\n",
    "from scipy.stats import pearsonr"
   ]
  },
  {
   "cell_type": "markdown",
   "id": "962f2226-a0d2-43e1-8ad8-f8e4a6879962",
   "metadata": {},
   "source": [
    "# Simulate longitudinal data (50/200/500 individuals and 10% receive treatment that result in oral bacterial enrichment)"
   ]
  },
  {
   "cell_type": "code",
   "execution_count": null,
   "id": "6de38296-0913-4854-843f-9da589dfd213",
   "metadata": {},
   "outputs": [],
   "source": [
    "mu_x = -3 # log10(oral bacterial fraction)\n",
    "mu_y = 8  # log10(total bacterial load)\n",
    "sigma_array = [0,0.025,0.05,0.1,0.25,0.5,1.0] # standard deviation\n",
    "n_ind = 200 # total number of individuals\n",
    "n_samples_per_ind = 5 # number of samples per individual\n",
    "p_perturbed = 0.1 # number of individuals that have been perturbed\n",
    "mc_runs = 10\n",
    "\n",
    "res = []\n",
    "for k in np.arange(mc_runs):\n",
    "    for sigma in sigma_array:\n",
    "        cov = np.array([[sigma, 0], [0, sigma]]) # covariance matrix\n",
    "        baselines = np.random.multivariate_normal([mu_x, mu_y], cov, size=n_ind) # generate baseline for individuals\n",
    "        df_baselines = pd.DataFrame(baselines, columns=['mu_x','mu_y'])\n",
    "        df_baselines.loc[df_baselines.mu_x>0, 'mu_x'] = 0\n",
    "\n",
    "        # generate time series for each individual\n",
    "        for i in np.arange(n_ind):\n",
    "            ctr_x = df_baselines.iloc[i,0]\n",
    "            ctr_y = df_baselines.iloc[i,1]\n",
    "            res.append([sigma, k, i, ctr_x, ctr_y, 'marker'])\n",
    "            res.append([sigma, k, i, ctr_x, ctr_y, 'expansion'])\n",
    "\n",
    "            # determine if the individual received perturbations\n",
    "            m = random.uniform(0, 1)\n",
    "            if m <= p_perturbed:\n",
    "                # perturbed, randomly sample oral fraction between mu_x and 0\n",
    "                perturbed_x = np.random.uniform(low=ctr_x, high=0, size=n_samples_per_ind-1)\n",
    "                \n",
    "                # marker hypothesis\n",
    "                df_perturbed_data = pd.DataFrame(perturbed_x, columns=['Perturbed_x'])\n",
    "                df_perturbed_data['new_mu_y'] = ctr_y-(df_perturbed_data['Perturbed_x']-ctr_x)\n",
    "                df_perturbed_data['new_sigma_y'] = sigma * df_perturbed_data['new_mu_y']/ctr_y\n",
    "                df_perturbed_data['Perturbed_y'] = np.random.normal(df_perturbed_data['new_mu_y'], df_perturbed_data['new_sigma_y'])\n",
    "                for px, py in zip(df_perturbed_data.Perturbed_x, df_perturbed_data.Perturbed_y):\n",
    "                    res.append([sigma, k, i, px, py, 'marker'])\n",
    "                    \n",
    "                # expansion hypothesis\n",
    "                gut_load = (1-10**ctr_x) * (10**ctr_y)\n",
    "                df_perturbed_data['new_mu_y'] = np.log10(gut_load/(1-10**df_perturbed_data['Perturbed_x']))\n",
    "                df_perturbed_data['new_sigma_y'] = sigma * df_perturbed_data['new_mu_y']/ctr_y\n",
    "                df_perturbed_data['Perturbed_y'] = np.random.normal(df_perturbed_data['new_mu_y'], df_perturbed_data['new_sigma_y'])\n",
    "                for px, py in zip(df_perturbed_data.Perturbed_x, df_perturbed_data.Perturbed_y):\n",
    "                    res.append([sigma, k, i, px, py, 'expansion'])\n",
    "            else:\n",
    "                # no perturbation, generate n_samples_per_ind-1 baselines\n",
    "                additional_baselines = np.random.multivariate_normal([ctr_x, ctr_y], cov, size=n_samples_per_ind-1)\n",
    "                df_additional_baselines = pd.DataFrame(additional_baselines, columns=['mu_x','mu_y'])\n",
    "                df_additional_baselines.loc[df_additional_baselines.mu_x>0, 'mu_x'] = 0\n",
    "                for additional_x, additional_y in zip(df_additional_baselines.mu_x, df_additional_baselines.mu_y):\n",
    "                    res.append([sigma, k, i, additional_x, additional_y, 'marker'])\n",
    "                    res.append([sigma, k, i, additional_x, additional_y, 'expansion'])\n",
    "df_res = pd.DataFrame(res, columns=['Sigma','MC','Individual','X','Y','Hypothesis'])\n",
    "df_res.to_csv(\"simulated_longitudinal_data_%d.csv\"%(n_ind), index=False)\n",
    "df_res.head()"
   ]
  },
  {
   "cell_type": "markdown",
   "id": "838a73d6-7813-4449-9ca9-b3051be51d29",
   "metadata": {},
   "source": [
    "# Simulate case-control data (100 healthy controls and 100 patients. all patient receive treatment that may lead to oral bacterial enrichment)"
   ]
  },
  {
   "cell_type": "code",
   "execution_count": 89,
   "id": "cbaf38e0-4a84-4189-824f-e087648d3813",
   "metadata": {},
   "outputs": [
    {
     "ename": "IndexError",
     "evalue": "single positional indexer is out-of-bounds",
     "output_type": "error",
     "traceback": [
      "\u001b[0;31m---------------------------------------------------------------------------\u001b[0m",
      "\u001b[0;31mIndexError\u001b[0m                                Traceback (most recent call last)",
      "Cell \u001b[0;32mIn [89], line 63\u001b[0m\n\u001b[1;32m     61\u001b[0m                 df_additional_baselines \u001b[38;5;241m=\u001b[39m pd\u001b[38;5;241m.\u001b[39mDataFrame(additional_baselines, columns\u001b[38;5;241m=\u001b[39m[\u001b[38;5;124m'\u001b[39m\u001b[38;5;124mmu_x\u001b[39m\u001b[38;5;124m'\u001b[39m,\u001b[38;5;124m'\u001b[39m\u001b[38;5;124mmu_y\u001b[39m\u001b[38;5;124m'\u001b[39m])\n\u001b[1;32m     62\u001b[0m                 df_additional_baselines \u001b[38;5;241m=\u001b[39m df_additional_baselines[(df_additional_baselines\u001b[38;5;241m.\u001b[39mmu_x\u001b[38;5;241m<\u001b[39m\u001b[38;5;241m0\u001b[39m) \u001b[38;5;241m&\u001b[39m (df_additional_baselines\u001b[38;5;241m.\u001b[39mmu_y\u001b[38;5;241m>\u001b[39m\u001b[38;5;241m0\u001b[39m)]\n\u001b[0;32m---> 63\u001b[0m                 res\u001b[38;5;241m.\u001b[39mappend([sigma, k, i, \u001b[43mdf_additional_baselines\u001b[49m\u001b[38;5;241;43m.\u001b[39;49m\u001b[43miloc\u001b[49m\u001b[43m[\u001b[49m\u001b[38;5;241;43m0\u001b[39;49m\u001b[43m,\u001b[49m\u001b[43m \u001b[49m\u001b[43m:\u001b[49m\u001b[43m]\u001b[49m\u001b[38;5;241m.\u001b[39mmu_x, df_additional_baselines\u001b[38;5;241m.\u001b[39miloc[\u001b[38;5;241m0\u001b[39m, :]\u001b[38;5;241m.\u001b[39mmu_y, \u001b[38;5;124m'\u001b[39m\u001b[38;5;124mmarker\u001b[39m\u001b[38;5;124m'\u001b[39m])\n\u001b[1;32m     64\u001b[0m                 res\u001b[38;5;241m.\u001b[39mappend([sigma, k, i, df_additional_baselines\u001b[38;5;241m.\u001b[39miloc[\u001b[38;5;241m0\u001b[39m, :]\u001b[38;5;241m.\u001b[39mmu_x, df_additional_baselines\u001b[38;5;241m.\u001b[39miloc[\u001b[38;5;241m0\u001b[39m, :]\u001b[38;5;241m.\u001b[39mmu_y, \u001b[38;5;124m'\u001b[39m\u001b[38;5;124mexpansion\u001b[39m\u001b[38;5;124m'\u001b[39m])\n\u001b[1;32m     65\u001b[0m df_res \u001b[38;5;241m=\u001b[39m pd\u001b[38;5;241m.\u001b[39mDataFrame(res, columns\u001b[38;5;241m=\u001b[39m[\u001b[38;5;124m'\u001b[39m\u001b[38;5;124mSigma\u001b[39m\u001b[38;5;124m'\u001b[39m,\u001b[38;5;124m'\u001b[39m\u001b[38;5;124mMC\u001b[39m\u001b[38;5;124m'\u001b[39m,\u001b[38;5;124m'\u001b[39m\u001b[38;5;124mIndividual\u001b[39m\u001b[38;5;124m'\u001b[39m,\u001b[38;5;124m'\u001b[39m\u001b[38;5;124mX\u001b[39m\u001b[38;5;124m'\u001b[39m,\u001b[38;5;124m'\u001b[39m\u001b[38;5;124mY\u001b[39m\u001b[38;5;124m'\u001b[39m,\u001b[38;5;124m'\u001b[39m\u001b[38;5;124mHypothesis\u001b[39m\u001b[38;5;124m'\u001b[39m])\n",
      "File \u001b[0;32m/usr/local/lib/python3.8/site-packages/pandas/core/indexing.py:1067\u001b[0m, in \u001b[0;36m_LocationIndexer.__getitem__\u001b[0;34m(self, key)\u001b[0m\n\u001b[1;32m   1065\u001b[0m     \u001b[38;5;28;01mif\u001b[39;00m \u001b[38;5;28mself\u001b[39m\u001b[38;5;241m.\u001b[39m_is_scalar_access(key):\n\u001b[1;32m   1066\u001b[0m         \u001b[38;5;28;01mreturn\u001b[39;00m \u001b[38;5;28mself\u001b[39m\u001b[38;5;241m.\u001b[39mobj\u001b[38;5;241m.\u001b[39m_get_value(\u001b[38;5;241m*\u001b[39mkey, takeable\u001b[38;5;241m=\u001b[39m\u001b[38;5;28mself\u001b[39m\u001b[38;5;241m.\u001b[39m_takeable)\n\u001b[0;32m-> 1067\u001b[0m     \u001b[38;5;28;01mreturn\u001b[39;00m \u001b[38;5;28;43mself\u001b[39;49m\u001b[38;5;241;43m.\u001b[39;49m\u001b[43m_getitem_tuple\u001b[49m\u001b[43m(\u001b[49m\u001b[43mkey\u001b[49m\u001b[43m)\u001b[49m\n\u001b[1;32m   1068\u001b[0m \u001b[38;5;28;01melse\u001b[39;00m:\n\u001b[1;32m   1069\u001b[0m     \u001b[38;5;66;03m# we by definition only have the 0th axis\u001b[39;00m\n\u001b[1;32m   1070\u001b[0m     axis \u001b[38;5;241m=\u001b[39m \u001b[38;5;28mself\u001b[39m\u001b[38;5;241m.\u001b[39maxis \u001b[38;5;129;01mor\u001b[39;00m \u001b[38;5;241m0\u001b[39m\n",
      "File \u001b[0;32m/usr/local/lib/python3.8/site-packages/pandas/core/indexing.py:1563\u001b[0m, in \u001b[0;36m_iLocIndexer._getitem_tuple\u001b[0;34m(self, tup)\u001b[0m\n\u001b[1;32m   1561\u001b[0m \u001b[38;5;28;01mdef\u001b[39;00m \u001b[38;5;21m_getitem_tuple\u001b[39m(\u001b[38;5;28mself\u001b[39m, tup: \u001b[38;5;28mtuple\u001b[39m):\n\u001b[0;32m-> 1563\u001b[0m     tup \u001b[38;5;241m=\u001b[39m \u001b[38;5;28;43mself\u001b[39;49m\u001b[38;5;241;43m.\u001b[39;49m\u001b[43m_validate_tuple_indexer\u001b[49m\u001b[43m(\u001b[49m\u001b[43mtup\u001b[49m\u001b[43m)\u001b[49m\n\u001b[1;32m   1564\u001b[0m     \u001b[38;5;28;01mwith\u001b[39;00m suppress(IndexingError):\n\u001b[1;32m   1565\u001b[0m         \u001b[38;5;28;01mreturn\u001b[39;00m \u001b[38;5;28mself\u001b[39m\u001b[38;5;241m.\u001b[39m_getitem_lowerdim(tup)\n",
      "File \u001b[0;32m/usr/local/lib/python3.8/site-packages/pandas/core/indexing.py:873\u001b[0m, in \u001b[0;36m_LocationIndexer._validate_tuple_indexer\u001b[0;34m(self, key)\u001b[0m\n\u001b[1;32m    871\u001b[0m \u001b[38;5;28;01mfor\u001b[39;00m i, k \u001b[38;5;129;01min\u001b[39;00m \u001b[38;5;28menumerate\u001b[39m(key):\n\u001b[1;32m    872\u001b[0m     \u001b[38;5;28;01mtry\u001b[39;00m:\n\u001b[0;32m--> 873\u001b[0m         \u001b[38;5;28;43mself\u001b[39;49m\u001b[38;5;241;43m.\u001b[39;49m\u001b[43m_validate_key\u001b[49m\u001b[43m(\u001b[49m\u001b[43mk\u001b[49m\u001b[43m,\u001b[49m\u001b[43m \u001b[49m\u001b[43mi\u001b[49m\u001b[43m)\u001b[49m\n\u001b[1;32m    874\u001b[0m     \u001b[38;5;28;01mexcept\u001b[39;00m \u001b[38;5;167;01mValueError\u001b[39;00m \u001b[38;5;28;01mas\u001b[39;00m err:\n\u001b[1;32m    875\u001b[0m         \u001b[38;5;28;01mraise\u001b[39;00m \u001b[38;5;167;01mValueError\u001b[39;00m(\n\u001b[1;32m    876\u001b[0m             \u001b[38;5;124m\"\u001b[39m\u001b[38;5;124mLocation based indexing can only have \u001b[39m\u001b[38;5;124m\"\u001b[39m\n\u001b[1;32m    877\u001b[0m             \u001b[38;5;124mf\u001b[39m\u001b[38;5;124m\"\u001b[39m\u001b[38;5;124m[\u001b[39m\u001b[38;5;132;01m{\u001b[39;00m\u001b[38;5;28mself\u001b[39m\u001b[38;5;241m.\u001b[39m_valid_types\u001b[38;5;132;01m}\u001b[39;00m\u001b[38;5;124m] types\u001b[39m\u001b[38;5;124m\"\u001b[39m\n\u001b[1;32m    878\u001b[0m         ) \u001b[38;5;28;01mfrom\u001b[39;00m \u001b[38;5;21;01merr\u001b[39;00m\n",
      "File \u001b[0;32m/usr/local/lib/python3.8/site-packages/pandas/core/indexing.py:1466\u001b[0m, in \u001b[0;36m_iLocIndexer._validate_key\u001b[0;34m(self, key, axis)\u001b[0m\n\u001b[1;32m   1464\u001b[0m     \u001b[38;5;28;01mreturn\u001b[39;00m\n\u001b[1;32m   1465\u001b[0m \u001b[38;5;28;01melif\u001b[39;00m is_integer(key):\n\u001b[0;32m-> 1466\u001b[0m     \u001b[38;5;28;43mself\u001b[39;49m\u001b[38;5;241;43m.\u001b[39;49m\u001b[43m_validate_integer\u001b[49m\u001b[43m(\u001b[49m\u001b[43mkey\u001b[49m\u001b[43m,\u001b[49m\u001b[43m \u001b[49m\u001b[43maxis\u001b[49m\u001b[43m)\u001b[49m\n\u001b[1;32m   1467\u001b[0m \u001b[38;5;28;01melif\u001b[39;00m \u001b[38;5;28misinstance\u001b[39m(key, \u001b[38;5;28mtuple\u001b[39m):\n\u001b[1;32m   1468\u001b[0m     \u001b[38;5;66;03m# a tuple should already have been caught by this point\u001b[39;00m\n\u001b[1;32m   1469\u001b[0m     \u001b[38;5;66;03m# so don't treat a tuple as a valid indexer\u001b[39;00m\n\u001b[1;32m   1470\u001b[0m     \u001b[38;5;28;01mraise\u001b[39;00m IndexingError(\u001b[38;5;124m\"\u001b[39m\u001b[38;5;124mToo many indexers\u001b[39m\u001b[38;5;124m\"\u001b[39m)\n",
      "File \u001b[0;32m/usr/local/lib/python3.8/site-packages/pandas/core/indexing.py:1557\u001b[0m, in \u001b[0;36m_iLocIndexer._validate_integer\u001b[0;34m(self, key, axis)\u001b[0m\n\u001b[1;32m   1555\u001b[0m len_axis \u001b[38;5;241m=\u001b[39m \u001b[38;5;28mlen\u001b[39m(\u001b[38;5;28mself\u001b[39m\u001b[38;5;241m.\u001b[39mobj\u001b[38;5;241m.\u001b[39m_get_axis(axis))\n\u001b[1;32m   1556\u001b[0m \u001b[38;5;28;01mif\u001b[39;00m key \u001b[38;5;241m>\u001b[39m\u001b[38;5;241m=\u001b[39m len_axis \u001b[38;5;129;01mor\u001b[39;00m key \u001b[38;5;241m<\u001b[39m \u001b[38;5;241m-\u001b[39mlen_axis:\n\u001b[0;32m-> 1557\u001b[0m     \u001b[38;5;28;01mraise\u001b[39;00m \u001b[38;5;167;01mIndexError\u001b[39;00m(\u001b[38;5;124m\"\u001b[39m\u001b[38;5;124msingle positional indexer is out-of-bounds\u001b[39m\u001b[38;5;124m\"\u001b[39m)\n",
      "\u001b[0;31mIndexError\u001b[0m: single positional indexer is out-of-bounds"
     ]
    }
   ],
   "source": [
    "mu_x = -3 # log10(oral bacterial fraction)\n",
    "mu_y = 8  # log10(total bacterial load)\n",
    "sigma_array = [0,0.025,0.05,0.1,0.25,0.5,1.0] # standard deviation\n",
    "n_ind = 200 # total number of individuals\n",
    "p_perturbed = 0.1# number of individuals that have been perturbed\n",
    "mc_runs = 10\n",
    "\n",
    "res = []\n",
    "for k in np.arange(mc_runs):\n",
    "    for sigma in sigma_array:\n",
    "        cov = np.array([[sigma, 0], [0, sigma]]) # covariance matrix\n",
    "        \n",
    "        # create baseline samples for healthy controls\n",
    "        baselines_hc = np.random.multivariate_normal([mu_x, mu_y], cov, size=int(1.2*n_ind/2)) # generate baseline for individuals\n",
    "        df_baselines_hc = pd.DataFrame(baselines_hc, columns=['mu_x','mu_y'])\n",
    "        df_baselines_hc = df_baselines_hc[(df_baselines_hc.mu_x<0) & (df_baselines_hc.mu_y>0)]\n",
    "        df_baselines_hc = df_baselines_hc.iloc[0:int(n_ind/2), :]\n",
    "        \n",
    "        # create baseline samples for patients\n",
    "        baselines_pa = np.random.multivariate_normal([mu_x, mu_y], cov, size=int(1.2*n_ind/2)) # generate baseline for individuals\n",
    "        df_baselines_pa = pd.DataFrame(baselines_pa, columns=['mu_x','mu_y'])\n",
    "        df_baselines_pa = df_baselines_pa[(df_baselines_pa.mu_x<0) & (df_baselines_pa.mu_y>0)]\n",
    "        df_baselines_pa = df_baselines_pa.iloc[0:int(n_ind/2), :]\n",
    "\n",
    "        # generate perturbed sample for patients\n",
    "        for i in np.arange(int(n_ind/2)):\n",
    "            # add data for HC\n",
    "            ctr_x = df_baselines_hc.iloc[i,0]\n",
    "            ctr_y = df_baselines_hc.iloc[i,1]\n",
    "            res.append([sigma, k, i, ctr_x, ctr_y, 'marker'])\n",
    "            res.append([sigma, k, i, ctr_x, ctr_y, 'expansion'])\n",
    "\n",
    "            # add data for patient\n",
    "            ctr_x = df_baselines_pa.iloc[i,0]\n",
    "            ctr_y = df_baselines_pa.iloc[i,1]\n",
    "            \n",
    "            # determine if the individual received perturbations\n",
    "            m = random.uniform(0, 1)\n",
    "            if m <= p_perturbed:\n",
    "                # perturbed, randomly sample oral fraction between mu_x and 0\n",
    "                perturbed_x = np.random.uniform(low=ctr_x, high=0, size=2)\n",
    "                \n",
    "                # marker hypothesis\n",
    "                df_perturbed_data = pd.DataFrame(perturbed_x, columns=['Perturbed_x'])\n",
    "                df_perturbed_data['new_mu_y'] = ctr_y-(df_perturbed_data['Perturbed_x']-ctr_x)\n",
    "                df_perturbed_data['new_sigma_y'] = sigma * df_perturbed_data['new_mu_y']/ctr_y\n",
    "                df_perturbed_data['Perturbed_y'] = np.random.normal(df_perturbed_data['new_mu_y'], df_perturbed_data['new_sigma_y'])\n",
    "                df_perturbed_data = df_perturbed_data[(df_perturbed_data.Perturbed_x<0) & (df_perturbed_data.Perturbed_y>0)]\n",
    "                res.append([sigma, k, i, df_perturbed_data.iloc[0,:].Perturbed_x, df_perturbed_data.iloc[0,:].Perturbed_y, 'marker'])\n",
    "                    \n",
    "                # expansion hypothesis\n",
    "                gut_load = (1-10**ctr_x) * (10**ctr_y)\n",
    "                df_perturbed_data['new_mu_y'] = np.log10(gut_load/(1-10**df_perturbed_data['Perturbed_x']))\n",
    "                df_perturbed_data['new_sigma_y'] = sigma * df_perturbed_data['new_mu_y']/ctr_y\n",
    "                df_perturbed_data['Perturbed_y'] = np.random.normal(df_perturbed_data['new_mu_y'], df_perturbed_data['new_sigma_y'])\n",
    "                df_perturbed_data = df_perturbed_data[(df_perturbed_data.Perturbed_x<0) & (df_perturbed_data.Perturbed_y>0)]\n",
    "                res.append([sigma, k, i, df_perturbed_data.iloc[0,:].Perturbed_x, df_perturbed_data.iloc[0,:].Perturbed_y, 'expansion'])\n",
    "            else:\n",
    "                # no perturbation, generate another baseline\n",
    "                additional_baselines = np.random.multivariate_normal([ctr_x, ctr_y], cov, size=2)\n",
    "                df_additional_baselines = pd.DataFrame(additional_baselines, columns=['mu_x','mu_y'])\n",
    "                df_additional_baselines = df_additional_baselines[(df_additional_baselines.mu_x<0) & (df_additional_baselines.mu_y>0)]\n",
    "                res.append([sigma, k, i, df_additional_baselines.iloc[0, :].mu_x, df_additional_baselines.iloc[0, :].mu_y, 'marker'])\n",
    "                res.append([sigma, k, i, df_additional_baselines.iloc[0, :].mu_x, df_additional_baselines.iloc[0, :].mu_y, 'expansion'])\n",
    "df_res = pd.DataFrame(res, columns=['Sigma','MC','Individual','X','Y','Hypothesis'])\n",
    "df_res.to_csv(\"simulated_case_control_data_%d.csv\"%(n_ind), index=False)"
   ]
  },
  {
   "cell_type": "code",
   "execution_count": 96,
   "id": "cec32b1c-d442-4481-86d4-e65869bec0f4",
   "metadata": {},
   "outputs": [
    {
     "data": {
      "text/plain": [
       "1.0"
      ]
     },
     "execution_count": 96,
     "metadata": {},
     "output_type": "execute_result"
    }
   ],
   "source": [
    "sigma"
   ]
  },
  {
   "cell_type": "code",
   "execution_count": 91,
   "id": "02e2622e-af0f-4f31-9d46-39a096025e79",
   "metadata": {},
   "outputs": [
    {
     "data": {
      "text/plain": [
       "array([[1.57427272, 6.34347982],\n",
       "       [1.66376569, 7.09502732]])"
      ]
     },
     "execution_count": 91,
     "metadata": {},
     "output_type": "execute_result"
    }
   ],
   "source": [
    "additional_baselines"
   ]
  },
  {
   "cell_type": "code",
   "execution_count": 90,
   "id": "e6dde328-e28e-4775-9ced-cb46af312364",
   "metadata": {},
   "outputs": [
    {
     "data": {
      "text/plain": [
       "(-0.3179903187253972, 7.4559331756174005)"
      ]
     },
     "execution_count": 90,
     "metadata": {},
     "output_type": "execute_result"
    }
   ],
   "source": [
    "ctr_x, ctr_y"
   ]
  },
  {
   "cell_type": "code",
   "execution_count": 78,
   "id": "8c43ee41-10e7-4274-ab9c-9915f3bd4bf9",
   "metadata": {},
   "outputs": [
    {
     "data": {
      "image/png": "[encoded data removed]",
      "text/plain": [
       "<Figure size 1000x400 with 2 Axes>"
      ]
     },
     "metadata": {},
     "output_type": "display_data"
    }
   ],
   "source": [
    "pcc = []\n",
    "for k in np.arange(mc_runs):\n",
    "    df_res_k = df_res[df_res.MC==k]\n",
    "    for h in ['marker','expansion']:\n",
    "        df_res_k_h = df_res_k[df_res_k.Hypothesis==h]\n",
    "        for sigma in sigma_array:\n",
    "            slope, intercept, r, p, se = linregress(df_res_k_h[df_res_k_h.Sigma==sigma].X, df_res_k_h[df_res_k_h.Sigma==sigma].Y)\n",
    "            pcc.append([k, h, sigma, slope, r, p])\n",
    "df_pcc = pd.DataFrame(pcc, columns=['MCrun','Hypothesis','Sigma','Slope','R','P'])\n",
    "\n",
    "fig, ax = plt.subplots(nrows=1, ncols=2, figsize=(10,4))\n",
    "_ = sns.lineplot(x=\"Sigma\", y=\"R\", hue='Hypothesis', data=df_pcc, ax=ax[0], marker='o')\n",
    "_ = ax[0].plot([0,1],[0,0],'k--')\n",
    "_ = ax[0].plot([0,1],[-0.19,-0.19],'k--')\n",
    "_ = sns.lineplot(x=\"Sigma\", y=\"Slope\", hue='Hypothesis', data=df_pcc, ax=ax[1], marker='o')\n",
    "_ = ax[1].plot([0,1],[0,0],'k--')\n",
    "_ = ax[1].plot([0,1],[-0.19,-0.19],'k--')"
   ]
  },
  {
   "cell_type": "code",
   "execution_count": 72,
   "id": "6c398801-c046-42ac-9b2c-68e303dbf804",
   "metadata": {},
   "outputs": [
    {
     "data": {
      "text/html": [
       "<div>\n",
       "<style scoped>\n",
       "    .dataframe tbody tr th:only-of-type {\n",
       "        vertical-align: middle;\n",
       "    }\n",
       "\n",
       "    .dataframe tbody tr th {\n",
       "        vertical-align: top;\n",
       "    }\n",
       "\n",
       "    .dataframe thead th {\n",
       "        text-align: right;\n",
       "    }\n",
       "</style>\n",
       "<table border=\"1\" class=\"dataframe\">\n",
       "  <thead>\n",
       "    <tr style=\"text-align: right;\">\n",
       "      <th></th>\n",
       "      <th>Sigma</th>\n",
       "      <th>MC</th>\n",
       "      <th>Individual</th>\n",
       "      <th>X</th>\n",
       "      <th>Y</th>\n",
       "      <th>Hypothesis</th>\n",
       "    </tr>\n",
       "  </thead>\n",
       "  <tbody>\n",
       "    <tr>\n",
       "      <th>1400</th>\n",
       "      <td>0.0</td>\n",
       "      <td>1</td>\n",
       "      <td>0</td>\n",
       "      <td>-3.0</td>\n",
       "      <td>8.0</td>\n",
       "      <td>marker</td>\n",
       "    </tr>\n",
       "    <tr>\n",
       "      <th>1402</th>\n",
       "      <td>0.0</td>\n",
       "      <td>1</td>\n",
       "      <td>0</td>\n",
       "      <td>-3.0</td>\n",
       "      <td>8.0</td>\n",
       "      <td>marker</td>\n",
       "    </tr>\n",
       "    <tr>\n",
       "      <th>1404</th>\n",
       "      <td>0.0</td>\n",
       "      <td>1</td>\n",
       "      <td>0</td>\n",
       "      <td>-3.0</td>\n",
       "      <td>8.0</td>\n",
       "      <td>marker</td>\n",
       "    </tr>\n",
       "    <tr>\n",
       "      <th>1406</th>\n",
       "      <td>0.0</td>\n",
       "      <td>1</td>\n",
       "      <td>0</td>\n",
       "      <td>-3.0</td>\n",
       "      <td>8.0</td>\n",
       "      <td>marker</td>\n",
       "    </tr>\n",
       "    <tr>\n",
       "      <th>1408</th>\n",
       "      <td>0.0</td>\n",
       "      <td>1</td>\n",
       "      <td>0</td>\n",
       "      <td>-3.0</td>\n",
       "      <td>8.0</td>\n",
       "      <td>marker</td>\n",
       "    </tr>\n",
       "    <tr>\n",
       "      <th>...</th>\n",
       "      <td>...</td>\n",
       "      <td>...</td>\n",
       "      <td>...</td>\n",
       "      <td>...</td>\n",
       "      <td>...</td>\n",
       "      <td>...</td>\n",
       "    </tr>\n",
       "    <tr>\n",
       "      <th>1590</th>\n",
       "      <td>0.0</td>\n",
       "      <td>1</td>\n",
       "      <td>19</td>\n",
       "      <td>-3.0</td>\n",
       "      <td>8.0</td>\n",
       "      <td>marker</td>\n",
       "    </tr>\n",
       "    <tr>\n",
       "      <th>1592</th>\n",
       "      <td>0.0</td>\n",
       "      <td>1</td>\n",
       "      <td>19</td>\n",
       "      <td>-3.0</td>\n",
       "      <td>8.0</td>\n",
       "      <td>marker</td>\n",
       "    </tr>\n",
       "    <tr>\n",
       "      <th>1594</th>\n",
       "      <td>0.0</td>\n",
       "      <td>1</td>\n",
       "      <td>19</td>\n",
       "      <td>-3.0</td>\n",
       "      <td>8.0</td>\n",
       "      <td>marker</td>\n",
       "    </tr>\n",
       "    <tr>\n",
       "      <th>1596</th>\n",
       "      <td>0.0</td>\n",
       "      <td>1</td>\n",
       "      <td>19</td>\n",
       "      <td>-3.0</td>\n",
       "      <td>8.0</td>\n",
       "      <td>marker</td>\n",
       "    </tr>\n",
       "    <tr>\n",
       "      <th>1598</th>\n",
       "      <td>0.0</td>\n",
       "      <td>1</td>\n",
       "      <td>19</td>\n",
       "      <td>-3.0</td>\n",
       "      <td>8.0</td>\n",
       "      <td>marker</td>\n",
       "    </tr>\n",
       "  </tbody>\n",
       "</table>\n",
       "<p>100 rows × 6 columns</p>\n",
       "</div>"
      ],
      "text/plain": [
       "      Sigma  MC  Individual    X    Y Hypothesis\n",
       "1400    0.0   1           0 -3.0  8.0     marker\n",
       "1402    0.0   1           0 -3.0  8.0     marker\n",
       "1404    0.0   1           0 -3.0  8.0     marker\n",
       "1406    0.0   1           0 -3.0  8.0     marker\n",
       "1408    0.0   1           0 -3.0  8.0     marker\n",
       "...     ...  ..         ...  ...  ...        ...\n",
       "1590    0.0   1          19 -3.0  8.0     marker\n",
       "1592    0.0   1          19 -3.0  8.0     marker\n",
       "1594    0.0   1          19 -3.0  8.0     marker\n",
       "1596    0.0   1          19 -3.0  8.0     marker\n",
       "1598    0.0   1          19 -3.0  8.0     marker\n",
       "\n",
       "[100 rows x 6 columns]"
      ]
     },
     "execution_count": 72,
     "metadata": {},
     "output_type": "execute_result"
    }
   ],
   "source": [
    "df_res_k_h[df_res_k_h.Sigma==sigma]"
   ]
  },
  {
   "cell_type": "code",
   "execution_count": 68,
   "id": "887a18d7-5e06-4461-a55d-97d7a0f13155",
   "metadata": {},
   "outputs": [
    {
     "data": {
      "text/html": [
       "<div>\n",
       "<style scoped>\n",
       "    .dataframe tbody tr th:only-of-type {\n",
       "        vertical-align: middle;\n",
       "    }\n",
       "\n",
       "    .dataframe tbody tr th {\n",
       "        vertical-align: top;\n",
       "    }\n",
       "\n",
       "    .dataframe thead th {\n",
       "        text-align: right;\n",
       "    }\n",
       "</style>\n",
       "<table border=\"1\" class=\"dataframe\">\n",
       "  <thead>\n",
       "    <tr style=\"text-align: right;\">\n",
       "      <th></th>\n",
       "      <th>Sigma</th>\n",
       "      <th>MC</th>\n",
       "      <th>Individual</th>\n",
       "      <th>X</th>\n",
       "      <th>Y</th>\n",
       "      <th>Hypothesis</th>\n",
       "    </tr>\n",
       "  </thead>\n",
       "  <tbody>\n",
       "    <tr>\n",
       "      <th>4192</th>\n",
       "      <td>0.0</td>\n",
       "      <td>3</td>\n",
       "      <td>0</td>\n",
       "      <td>-3.000000</td>\n",
       "      <td>8.000000</td>\n",
       "      <td>marker</td>\n",
       "    </tr>\n",
       "    <tr>\n",
       "      <th>4194</th>\n",
       "      <td>0.0</td>\n",
       "      <td>3</td>\n",
       "      <td>0</td>\n",
       "      <td>-3.000000</td>\n",
       "      <td>8.000000</td>\n",
       "      <td>marker</td>\n",
       "    </tr>\n",
       "    <tr>\n",
       "      <th>4196</th>\n",
       "      <td>0.0</td>\n",
       "      <td>3</td>\n",
       "      <td>0</td>\n",
       "      <td>-3.000000</td>\n",
       "      <td>8.000000</td>\n",
       "      <td>marker</td>\n",
       "    </tr>\n",
       "    <tr>\n",
       "      <th>4198</th>\n",
       "      <td>0.0</td>\n",
       "      <td>3</td>\n",
       "      <td>0</td>\n",
       "      <td>-3.000000</td>\n",
       "      <td>8.000000</td>\n",
       "      <td>marker</td>\n",
       "    </tr>\n",
       "    <tr>\n",
       "      <th>4200</th>\n",
       "      <td>0.0</td>\n",
       "      <td>3</td>\n",
       "      <td>0</td>\n",
       "      <td>-3.000000</td>\n",
       "      <td>8.000000</td>\n",
       "      <td>marker</td>\n",
       "    </tr>\n",
       "    <tr>\n",
       "      <th>...</th>\n",
       "      <td>...</td>\n",
       "      <td>...</td>\n",
       "      <td>...</td>\n",
       "      <td>...</td>\n",
       "      <td>...</td>\n",
       "      <td>...</td>\n",
       "    </tr>\n",
       "    <tr>\n",
       "      <th>5582</th>\n",
       "      <td>1.0</td>\n",
       "      <td>3</td>\n",
       "      <td>19</td>\n",
       "      <td>-2.132732</td>\n",
       "      <td>8.124210</td>\n",
       "      <td>marker</td>\n",
       "    </tr>\n",
       "    <tr>\n",
       "      <th>5584</th>\n",
       "      <td>1.0</td>\n",
       "      <td>3</td>\n",
       "      <td>19</td>\n",
       "      <td>-1.841102</td>\n",
       "      <td>10.618993</td>\n",
       "      <td>marker</td>\n",
       "    </tr>\n",
       "    <tr>\n",
       "      <th>5586</th>\n",
       "      <td>1.0</td>\n",
       "      <td>3</td>\n",
       "      <td>19</td>\n",
       "      <td>-1.192655</td>\n",
       "      <td>9.544991</td>\n",
       "      <td>marker</td>\n",
       "    </tr>\n",
       "    <tr>\n",
       "      <th>5588</th>\n",
       "      <td>1.0</td>\n",
       "      <td>3</td>\n",
       "      <td>19</td>\n",
       "      <td>-0.273445</td>\n",
       "      <td>9.942185</td>\n",
       "      <td>marker</td>\n",
       "    </tr>\n",
       "    <tr>\n",
       "      <th>5590</th>\n",
       "      <td>1.0</td>\n",
       "      <td>3</td>\n",
       "      <td>19</td>\n",
       "      <td>-2.472379</td>\n",
       "      <td>8.610506</td>\n",
       "      <td>marker</td>\n",
       "    </tr>\n",
       "  </tbody>\n",
       "</table>\n",
       "<p>700 rows × 6 columns</p>\n",
       "</div>"
      ],
      "text/plain": [
       "      Sigma  MC  Individual         X          Y Hypothesis\n",
       "4192    0.0   3           0 -3.000000   8.000000     marker\n",
       "4194    0.0   3           0 -3.000000   8.000000     marker\n",
       "4196    0.0   3           0 -3.000000   8.000000     marker\n",
       "4198    0.0   3           0 -3.000000   8.000000     marker\n",
       "4200    0.0   3           0 -3.000000   8.000000     marker\n",
       "...     ...  ..         ...       ...        ...        ...\n",
       "5582    1.0   3          19 -2.132732   8.124210     marker\n",
       "5584    1.0   3          19 -1.841102  10.618993     marker\n",
       "5586    1.0   3          19 -1.192655   9.544991     marker\n",
       "5588    1.0   3          19 -0.273445   9.942185     marker\n",
       "5590    1.0   3          19 -2.472379   8.610506     marker\n",
       "\n",
       "[700 rows x 6 columns]"
      ]
     },
     "execution_count": 68,
     "metadata": {},
     "output_type": "execute_result"
    }
   ],
   "source": [
    "df_res_k_h"
   ]
  },
  {
   "cell_type": "code",
   "execution_count": null,
   "id": "bdacbb86-cf2b-4017-a867-2808b9ed489e",
   "metadata": {},
   "outputs": [],
   "source": []
  },
  {
   "cell_type": "code",
   "execution_count": null,
   "id": "141f501b-7359-4317-b4f7-1f7604e3e1d1",
   "metadata": {},
   "outputs": [],
   "source": []
  },
  {
   "cell_type": "code",
   "execution_count": null,
   "id": "098125b5-f0b7-4271-91b1-6dc66f7f5606",
   "metadata": {},
   "outputs": [],
   "source": []
  },
  {
   "cell_type": "code",
   "execution_count": 225,
   "id": "975f9560-16e2-4706-b212-40ee409f08ff",
   "metadata": {},
   "outputs": [
    {
     "ename": "InvalidIndexError",
     "evalue": "(0          False\n1          False\n2          False\n3          False\n4          False\n           ...  \n5249666    False\n5249667    False\n5249668    False\n5249669    False\n5249670    False\nName: Sigma, Length: 5249671, dtype: bool,)",
     "output_type": "error",
     "traceback": [
      "\u001b[0;31m---------------------------------------------------------------------------\u001b[0m",
      "\u001b[0;31mTypeError\u001b[0m                                 Traceback (most recent call last)",
      "File \u001b[0;32m/usr/local/lib/python3.8/site-packages/pandas/core/indexes/base.py:3803\u001b[0m, in \u001b[0;36mIndex.get_loc\u001b[0;34m(self, key, method, tolerance)\u001b[0m\n\u001b[1;32m   3802\u001b[0m \u001b[38;5;28;01mtry\u001b[39;00m:\n\u001b[0;32m-> 3803\u001b[0m     \u001b[38;5;28;01mreturn\u001b[39;00m \u001b[38;5;28;43mself\u001b[39;49m\u001b[38;5;241;43m.\u001b[39;49m\u001b[43m_engine\u001b[49m\u001b[38;5;241;43m.\u001b[39;49m\u001b[43mget_loc\u001b[49m\u001b[43m(\u001b[49m\u001b[43mcasted_key\u001b[49m\u001b[43m)\u001b[49m\n\u001b[1;32m   3804\u001b[0m \u001b[38;5;28;01mexcept\u001b[39;00m \u001b[38;5;167;01mKeyError\u001b[39;00m \u001b[38;5;28;01mas\u001b[39;00m err:\n",
      "File \u001b[0;32m/usr/local/lib/python3.8/site-packages/pandas/_libs/index.pyx:138\u001b[0m, in \u001b[0;36mpandas._libs.index.IndexEngine.get_loc\u001b[0;34m()\u001b[0m\n",
      "File \u001b[0;32m/usr/local/lib/python3.8/site-packages/pandas/_libs/index.pyx:144\u001b[0m, in \u001b[0;36mpandas._libs.index.IndexEngine.get_loc\u001b[0;34m()\u001b[0m\n",
      "\u001b[0;31mTypeError\u001b[0m: '(0          False\n1          False\n2          False\n3          False\n4          False\n           ...  \n5249666    False\n5249667    False\n5249668    False\n5249669    False\n5249670    False\nName: Sigma, Length: 5249671, dtype: bool,)' is an invalid key",
      "\nDuring handling of the above exception, another exception occurred:\n",
      "\u001b[0;31mInvalidIndexError\u001b[0m                         Traceback (most recent call last)",
      "Cell \u001b[0;32mIn [225], line 1\u001b[0m\n\u001b[0;32m----> 1\u001b[0m _ \u001b[38;5;241m=\u001b[39m plt\u001b[38;5;241m.\u001b[39mscatter(\u001b[43mdf_res\u001b[49m\u001b[43m[\u001b[49m\u001b[43mdf_res\u001b[49m\u001b[38;5;241;43m.\u001b[39;49m\u001b[43mSigma\u001b[49m\u001b[38;5;241;43m==\u001b[39;49m\u001b[38;5;241;43m0.2\u001b[39;49m\u001b[43m,\u001b[49m\u001b[43m]\u001b[49m\u001b[38;5;241m.\u001b[39mX, df_res[df_res\u001b[38;5;241m.\u001b[39mSigma\u001b[38;5;241m==\u001b[39m\u001b[38;5;241m0.2\u001b[39m,]\u001b[38;5;241m.\u001b[39mY)\n",
      "File \u001b[0;32m/usr/local/lib/python3.8/site-packages/pandas/core/frame.py:3805\u001b[0m, in \u001b[0;36mDataFrame.__getitem__\u001b[0;34m(self, key)\u001b[0m\n\u001b[1;32m   3803\u001b[0m \u001b[38;5;28;01mif\u001b[39;00m \u001b[38;5;28mself\u001b[39m\u001b[38;5;241m.\u001b[39mcolumns\u001b[38;5;241m.\u001b[39mnlevels \u001b[38;5;241m>\u001b[39m \u001b[38;5;241m1\u001b[39m:\n\u001b[1;32m   3804\u001b[0m     \u001b[38;5;28;01mreturn\u001b[39;00m \u001b[38;5;28mself\u001b[39m\u001b[38;5;241m.\u001b[39m_getitem_multilevel(key)\n\u001b[0;32m-> 3805\u001b[0m indexer \u001b[38;5;241m=\u001b[39m \u001b[38;5;28;43mself\u001b[39;49m\u001b[38;5;241;43m.\u001b[39;49m\u001b[43mcolumns\u001b[49m\u001b[38;5;241;43m.\u001b[39;49m\u001b[43mget_loc\u001b[49m\u001b[43m(\u001b[49m\u001b[43mkey\u001b[49m\u001b[43m)\u001b[49m\n\u001b[1;32m   3806\u001b[0m \u001b[38;5;28;01mif\u001b[39;00m is_integer(indexer):\n\u001b[1;32m   3807\u001b[0m     indexer \u001b[38;5;241m=\u001b[39m [indexer]\n",
      "File \u001b[0;32m/usr/local/lib/python3.8/site-packages/pandas/core/indexes/base.py:3810\u001b[0m, in \u001b[0;36mIndex.get_loc\u001b[0;34m(self, key, method, tolerance)\u001b[0m\n\u001b[1;32m   3805\u001b[0m         \u001b[38;5;28;01mraise\u001b[39;00m \u001b[38;5;167;01mKeyError\u001b[39;00m(key) \u001b[38;5;28;01mfrom\u001b[39;00m \u001b[38;5;21;01merr\u001b[39;00m\n\u001b[1;32m   3806\u001b[0m     \u001b[38;5;28;01mexcept\u001b[39;00m \u001b[38;5;167;01mTypeError\u001b[39;00m:\n\u001b[1;32m   3807\u001b[0m         \u001b[38;5;66;03m# If we have a listlike key, _check_indexing_error will raise\u001b[39;00m\n\u001b[1;32m   3808\u001b[0m         \u001b[38;5;66;03m#  InvalidIndexError. Otherwise we fall through and re-raise\u001b[39;00m\n\u001b[1;32m   3809\u001b[0m         \u001b[38;5;66;03m#  the TypeError.\u001b[39;00m\n\u001b[0;32m-> 3810\u001b[0m         \u001b[38;5;28;43mself\u001b[39;49m\u001b[38;5;241;43m.\u001b[39;49m\u001b[43m_check_indexing_error\u001b[49m\u001b[43m(\u001b[49m\u001b[43mkey\u001b[49m\u001b[43m)\u001b[49m\n\u001b[1;32m   3811\u001b[0m         \u001b[38;5;28;01mraise\u001b[39;00m\n\u001b[1;32m   3813\u001b[0m \u001b[38;5;66;03m# GH#42269\u001b[39;00m\n",
      "File \u001b[0;32m/usr/local/lib/python3.8/site-packages/pandas/core/indexes/base.py:5968\u001b[0m, in \u001b[0;36mIndex._check_indexing_error\u001b[0;34m(self, key)\u001b[0m\n\u001b[1;32m   5964\u001b[0m \u001b[38;5;28;01mdef\u001b[39;00m \u001b[38;5;21m_check_indexing_error\u001b[39m(\u001b[38;5;28mself\u001b[39m, key):\n\u001b[1;32m   5965\u001b[0m     \u001b[38;5;28;01mif\u001b[39;00m \u001b[38;5;129;01mnot\u001b[39;00m is_scalar(key):\n\u001b[1;32m   5966\u001b[0m         \u001b[38;5;66;03m# if key is not a scalar, directly raise an error (the code below\u001b[39;00m\n\u001b[1;32m   5967\u001b[0m         \u001b[38;5;66;03m# would convert to numpy arrays and raise later any way) - GH29926\u001b[39;00m\n\u001b[0;32m-> 5968\u001b[0m         \u001b[38;5;28;01mraise\u001b[39;00m InvalidIndexError(key)\n",
      "\u001b[0;31mInvalidIndexError\u001b[0m: (0          False\n1          False\n2          False\n3          False\n4          False\n           ...  \n5249666    False\n5249667    False\n5249668    False\n5249669    False\n5249670    False\nName: Sigma, Length: 5249671, dtype: bool,)"
     ]
    }
   ],
   "source": [
    "_ = plt.scatter(df_res[df_res.Sigma==0.2,].X, df_res[df_res.Sigma==0.2,].Y)"
   ]
  },
  {
   "cell_type": "code",
   "execution_count": 221,
   "id": "d97b1ab0-ba82-4319-b1b3-5bff94d74668",
   "metadata": {},
   "outputs": [
    {
     "data": {
      "text/plain": [
       "array([0.  , 0.05, 0.1 , 0.15, 0.2 , 0.25, 0.3 , 0.35, 0.4 , 0.45, 0.5 ,\n",
       "       0.55, 0.6 , 0.65, 0.7 , 0.75, 0.8 , 0.85, 0.9 , 0.95, 1.  ])"
      ]
     },
     "execution_count": 221,
     "metadata": {},
     "output_type": "execute_result"
    }
   ],
   "source": [
    "sigma_array"
   ]
  },
  {
   "cell_type": "code",
   "execution_count": 223,
   "id": "1c8cdb77-c926-4338-90af-610f01f71789",
   "metadata": {},
   "outputs": [
    {
     "data": {
      "text/plain": [
       "{0.0,\n",
       " 0.05,\n",
       " 0.1,\n",
       " 0.15000000000000002,\n",
       " 0.2,\n",
       " 0.25,\n",
       " 0.30000000000000004,\n",
       " 0.35000000000000003,\n",
       " 0.4,\n",
       " 0.45,\n",
       " 0.5,\n",
       " 0.55,\n",
       " 0.6000000000000001,\n",
       " 0.65,\n",
       " 0.7000000000000001,\n",
       " 0.75,\n",
       " 0.8,\n",
       " 0.8500000000000001,\n",
       " 0.9,\n",
       " 0.9500000000000001,\n",
       " 1.0}"
      ]
     },
     "execution_count": 223,
     "metadata": {},
     "output_type": "execute_result"
    }
   ],
   "source": [
    "set(df_res.Sigma)"
   ]
  },
  {
   "cell_type": "code",
   "execution_count": null,
   "id": "f0505521-7440-40f1-8413-ec966f74496f",
   "metadata": {},
   "outputs": [],
   "source": []
  }
 ],
 "metadata": {
  "kernelspec": {
   "display_name": "Python 3 (ipykernel)",
   "language": "python",
   "name": "python3"
  },
  "language_info": {
   "codemirror_mode": {
    "name": "ipython",
    "version": 3
   },
   "file_extension": ".py",
   "mimetype": "text/x-python",
   "name": "python",
   "nbconvert_exporter": "python",
   "pygments_lexer": "ipython3",
   "version": "3.8.16"
  }
 },
 "nbformat": 4,
 "nbformat_minor": 5
}
